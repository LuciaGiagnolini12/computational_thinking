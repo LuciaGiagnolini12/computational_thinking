{
 "cells": [
  {
   "cell_type": "markdown",
   "metadata": {},
   "source": [
    "# Introduction to Python\n",
    "\n",
    "[Guido Van Rossum](https://en.wikipedia.org/wiki/Guido_van_Rossum) wrote Python as a hobby programming project back in the late 1980s. He was fond of watching the famous comedy series - The Monty Python's [Flying Circus](https://en.wikipedia.org/wiki/Monty_Python%27s_Flying_Circus) - hence, he chose the name Python. \n",
    "\n",
    "[Python](https://www.python.org/) is a multipurpose, high-level, object-oriented, interactive, interpreted and extremely user-friendly programming language.\n",
    "\n",
    "Latest updated version: [Python v3.6.x](https://www.python.org/downloads/release/python-363/)\n",
    "\n",
    "## Characteristics\n",
    " * **Highly readable** English-like syntax\n",
    " * **Reusable and maintainable** Is less to type, do not need to compile\n",
    " * **Portable** Is an interpreted language, no need to change the code in different platforms\n",
    " * **Built-in libraries** Pre-built and portable set of libraries for lots of purposes\n",
    " * **Extensible and embeddable** Interacts with other technologies (e.g., Java, C++)\n",
    " * **Object-Oriented (OOP)** correlate small parts of a problem in a complex workflows\n",
    "\n",
    "## Domains\n",
    " * **Web Application Development** Many frameworks (e.g. Django, Flask, CherryPy)\n",
    " * **Numeric computing** Faster than other languages (e.g. Javascript) and lots of libraries\n",
    " * **Software Prototyping** Easy-to-use interfaces (e.g. video games)\n",
    "\n",
    "Here below is a summary of all the information you need to know in order to solve the given task.\n",
    "\n",
    "## Syntax\n",
    "### Variables and identifiers\n",
    "Python does not require you to define type of variables, just declare them:\n"
   ]
  },
  {
   "cell_type": "code",
   "execution_count": 1,
   "metadata": {
    "collapsed": true
   },
   "outputs": [
    {
     "data": {
      "text/plain": [
       "2"
      ]
     },
     "execution_count": 1,
     "metadata": {},
     "output_type": "execute_result"
    }
   ],
   "source": [
    "a = 2\n",
    "a"
   ]
  },
  {
   "cell_type": "markdown",
   "metadata": {},
   "source": [
    "There are few keywords that cannot be used for naming variables:\n",
    "\n",
    "`False class finally is return` \n",
    "\n",
    "`None continue for lambda try True def` \n",
    "\n",
    "`from nonlocal while and del global` \n",
    "\n",
    "`not with as elif if or yield assert` \n",
    "\n",
    "`else import pass break except in raise`\n",
    "\n",
    "Python is case sensitive: \n",
    "\n",
    "`variable != Variable`\n",
    "\n",
    "There are few good practises and rules for writing identifiers and variables: \n",
    " * Combine lowercase letters (`a-z`) uppercase letters (`A-Z`), digits (`1-9`) and underscore (`_`) \n",
    " * Use camelCase(`thisIsMyVariable`) or underscore to separate words (`this_is_my_variable`)\n",
    " * Can not start with a digit or contain a special symbol (`|£$%@# etc.`)\n",
    " * Use names that make sense `count = 10` rather than `c = 10`\n",
    "\n",
    "### Punctuation and indentation\n",
    "There’s no need to add punctuation at the end of lines. "
   ]
  },
  {
   "cell_type": "code",
   "execution_count": 4,
   "metadata": {},
   "outputs": [],
   "source": [
    "a = 2\n",
    "b = 3 "
   ]
  },
  {
   "cell_type": "markdown",
   "metadata": {},
   "source": [
    "We can use semicolons whether we want to put multiple statements in a single line:"
   ]
  },
  {
   "cell_type": "code",
   "execution_count": null,
   "metadata": {},
   "outputs": [],
   "source": [
    "a = 2 ; b = 3 "
   ]
  },
  {
   "cell_type": "markdown",
   "metadata": {},
   "source": [
    "We use indentation to separate code blocks (use tabs or 4 whitespaces)\n"
   ]
  },
  {
   "cell_type": "code",
   "execution_count": null,
   "metadata": {},
   "outputs": [],
   "source": [
    "a = 2\n",
    "if a > 1:\n",
    "    return a"
   ]
  },
  {
   "cell_type": "markdown",
   "metadata": {},
   "source": [
    "Document your code using comments (when relevant):\n"
   ]
  },
  {
   "cell_type": "code",
   "execution_count": null,
   "metadata": {},
   "outputs": [],
   "source": [
    "# a comment to describe the variable assignment\n",
    "a = 2\n",
    "# a comment to describe the if condition\n",
    "    if a > 1:\n",
    "    return a"
   ]
  },
  {
   "cell_type": "markdown",
   "metadata": {},
   "source": [
    "## Data types\n",
    "### Number\n",
    "There are three data types for representing numbers:\n",
    " * Integers `a = int(5)`\n",
    " * floating point numbers `a = float(5.0)`\n",
    "* complex numbers `a = complex(5+2j)`\n",
    "\n",
    "### String"
   ]
  },
  {
   "cell_type": "code",
   "execution_count": 16,
   "metadata": {},
   "outputs": [
    {
     "data": {
      "text/plain": [
       "('This is a string', '25')"
      ]
     },
     "execution_count": 16,
     "metadata": {},
     "output_type": "execute_result"
    }
   ],
   "source": [
    "s = \"This is a string\"\n",
    "s2 = str(25)\n",
    "s , s2"
   ]
  },
  {
   "cell_type": "markdown",
   "metadata": {},
   "source": [
    "We can slice a string and retrieve a substring in a specific position. Index starts from 0 in Python:\n"
   ]
  },
  {
   "cell_type": "code",
   "execution_count": 11,
   "metadata": {
    "collapsed": true
   },
   "outputs": [
    {
     "data": {
      "text/plain": [
       "'h'"
      ]
     },
     "execution_count": 11,
     "metadata": {},
     "output_type": "execute_result"
    }
   ],
   "source": [
    "s = \"This is a string\"\n",
    "s[1]"
   ]
  },
  {
   "cell_type": "code",
   "execution_count": 12,
   "metadata": {
    "collapsed": true
   },
   "outputs": [
    {
     "data": {
      "text/plain": [
       "'his'"
      ]
     },
     "execution_count": 12,
     "metadata": {},
     "output_type": "execute_result"
    }
   ],
   "source": [
    "s = \"This is a string\"\n",
    "s[1:4]"
   ]
  },
  {
   "cell_type": "markdown",
   "metadata": {},
   "source": [
    "### List\n",
    "A list is an ordered sequence of items separated by comma inside square brackets:\n"
   ]
  },
  {
   "cell_type": "code",
   "execution_count": null,
   "metadata": {},
   "outputs": [],
   "source": [
    "myList = ['three', 'two', 'one']"
   ]
  },
  {
   "cell_type": "markdown",
   "metadata": {},
   "source": [
    "We can slice a list and retrieve an item in a specific position. Index starts from 0 in Python:"
   ]
  },
  {
   "cell_type": "code",
   "execution_count": 38,
   "metadata": {},
   "outputs": [
    {
     "data": {
      "text/plain": [
       "'two'"
      ]
     },
     "execution_count": 38,
     "metadata": {},
     "output_type": "execute_result"
    }
   ],
   "source": [
    "myList[2]"
   ]
  },
  {
   "cell_type": "markdown",
   "metadata": {},
   "source": [
    "We can sort the list by using the method `sorted()`"
   ]
  },
  {
   "cell_type": "code",
   "execution_count": 18,
   "metadata": {},
   "outputs": [
    {
     "data": {
      "text/plain": [
       "['one', 'three', 'two']"
      ]
     },
     "execution_count": 18,
     "metadata": {},
     "output_type": "execute_result"
    }
   ],
   "source": [
    "myList = sorted(myList)\n",
    "myList"
   ]
  },
  {
   "cell_type": "markdown",
   "metadata": {},
   "source": [
    "We can add a new item to the end of the list by using the method `append()`\n"
   ]
  },
  {
   "cell_type": "code",
   "execution_count": 19,
   "metadata": {},
   "outputs": [
    {
     "data": {
      "text/plain": [
       "['one', 'three', 'two', 'star']"
      ]
     },
     "execution_count": 19,
     "metadata": {},
     "output_type": "execute_result"
    }
   ],
   "source": [
    "myList.append('star')\n",
    "myList"
   ]
  },
  {
   "cell_type": "markdown",
   "metadata": {},
   "source": [
    "We can count how many times items appear in a list using the class `Counter()`\n"
   ]
  },
  {
   "cell_type": "code",
   "execution_count": 21,
   "metadata": {},
   "outputs": [
    {
     "data": {
      "text/plain": [
       "Counter({'one': 1, 'star': 1, 'three': 1, 'two': 1})"
      ]
     },
     "execution_count": 21,
     "metadata": {},
     "output_type": "execute_result"
    }
   ],
   "source": [
    "from collections import Counter\n",
    "count = Counter(myList)\n",
    "count"
   ]
  },
  {
   "cell_type": "markdown",
   "metadata": {},
   "source": [
    "### Dictionary\n",
    "An unordered collection of key-value pairs inside curly braces:"
   ]
  },
  {
   "cell_type": "code",
   "execution_count": null,
   "metadata": {},
   "outputs": [],
   "source": [
    "myDict = {'first': 1 ,'second': 2 , 'third': 3}"
   ]
  },
  {
   "cell_type": "markdown",
   "metadata": {},
   "source": [
    "Keys can be used to retrieve values:"
   ]
  },
  {
   "cell_type": "code",
   "execution_count": 39,
   "metadata": {},
   "outputs": [
    {
     "data": {
      "text/plain": [
       "3"
      ]
     },
     "execution_count": 39,
     "metadata": {},
     "output_type": "execute_result"
    }
   ],
   "source": [
    "myDict['third']"
   ]
  },
  {
   "cell_type": "markdown",
   "metadata": {},
   "source": [
    "### Output\n",
    "We use the print() function to output data:"
   ]
  },
  {
   "cell_type": "code",
   "execution_count": 40,
   "metadata": {},
   "outputs": [
    {
     "name": "stdout",
     "output_type": "stream",
     "text": [
      "3\n"
     ]
    }
   ],
   "source": [
    "print(myDict['third'])"
   ]
  },
  {
   "cell_type": "code",
   "execution_count": 41,
   "metadata": {},
   "outputs": [
    {
     "name": "stdout",
     "output_type": "stream",
     "text": [
      "the value is: 3\n"
     ]
    }
   ],
   "source": [
    "print('the value is:', myDict['third'])"
   ]
  },
  {
   "cell_type": "code",
   "execution_count": 27,
   "metadata": {},
   "outputs": [
    {
     "name": "stdout",
     "output_type": "stream",
     "text": [
      "The value of x is 2 and y is 3\n"
     ]
    }
   ],
   "source": [
    "x = 2 ; y = 3\n",
    "print('The value of x is {} and y is {}'.format(x,y))"
   ]
  },
  {
   "cell_type": "markdown",
   "metadata": {},
   "source": [
    "### Operators\n",
    "##### Arithmetic operators\n",
    " * `+` Add two operands or unary plus `x + y`\n",
    " * `-` Subtract right operand from the left or unary minus `x - y`\n",
    " * `*` Multiply two operands `x * y`\n",
    " * `/` Divide left operand by the right one (always results into float) `x / y`\n",
    " * `%` Modulus - remainder of the division of left operand by the right `x % y` (remainder of x/y)\n",
    " * `//` Floor division - division that results into whole number adjusted to the left in the number line `x // y`\n",
    " * `**` Exponent - left operand raised to the power of right `x**y` (x to the power y)\n",
    "##### Comparison operators\n",
    " * `>` Greater that - True if left operand is greater than the right `x > y`\n",
    " * `<` Less that - True if left operand is less than the right `x < y`\n",
    " * `==` Equal to - True if both operands are equal `x == y`\n",
    " * `!=` Not equal to - True if operands are not equal `x != y`\n",
    " * `>=` Greater than or equal to - True if left operand is greater than or equal to the right `x >= y`\n",
    " * `<=` Less than or equal to - True if left operand is less than or equal to the right `x <= y`\n",
    "##### Logic operators\n",
    " * `and` True if both the operands are true `x and y`\n",
    " * `or` True if either of the operands is true `x or y`\n",
    " * `not` True if operand is false (complements the operand) `not x`\n",
    "##### Assignment operators\n",
    " * `=` e.g., `x = 5` corresponds to `x = 5`\n",
    " * `+=` e.g. `x += 5` corresponds to `x = x + 5`\n",
    " * `-=` e.g. `x -= 5` corresponds to `x = x - 5`\n",
    " * `*=` e.g. `x *= 5` corresponds to `x = x * 5`\n",
    " * `/=` e.g. `x /= 5` corresponds to `x = x / 5`\n",
    " * `%=` e.g. `x %= 5` corresponds to `x = x % 5`\n",
    " * `//=` e.g. `x //= 5` corresponds to `x = x // 5`\n",
    " * `**=` e.g. `x **= 5` corresponds to `x = x ** 5`\n",
    " * `&=` e.g. `x &= 5` corresponds to `x = x & 5`\n",
    " * `|=` e.g. `x |= 5` corresponds to `x = x | 5`\n",
    " * `^=` e.g. `x ^= 5` corresponds to `x = x ^ 5`\n",
    " * `>>=` e.g. `x >>= 5` corresponds to `x = x >> 5`\n",
    " * `<<=` e.g. `x <<= 5` corresponds to `x = x << 5`\n",
    "##### Identity operators\n",
    " * `is` True if the operands are identical (refer to the same object) `x is True`\n",
    " * `is not` True if the operands are not identical (do not refer to the same object) `x is not True`\n",
    "##### Membership operators\n",
    " * `in` True if value/variable is found in the sequence `5 in x`\n",
    " * `not in` True if value/variable is not found in the sequence `5 not in x`\n",
    "\n",
    "### Statements\n",
    "##### Conditional statement\n",
    "A decision might be taken only when a specific condition is satisfied.\n",
    "There are several forms of if-else conditions. the simplest one is:\n",
    "**if-else**"
   ]
  },
  {
   "cell_type": "code",
   "execution_count": 28,
   "metadata": {
    "collapsed": true
   },
   "outputs": [
    {
     "name": "stdout",
     "output_type": "stream",
     "text": [
      "Positive or Zero\n"
     ]
    }
   ],
   "source": [
    "num = 3\n",
    "if num >= 0:\n",
    "    print(\"Positive or Zero\")\n",
    "else:\n",
    "    print(\"Negative number\")"
   ]
  },
  {
   "cell_type": "markdown",
   "metadata": {},
   "source": [
    "##### For loop\n",
    "Interating over a sequence (e.g. a list or a dictionary) is useful when working on  datasets."
   ]
  },
  {
   "cell_type": "code",
   "execution_count": 37,
   "metadata": {},
   "outputs": [
    {
     "data": {
      "text/plain": [
       "48"
      ]
     },
     "execution_count": 37,
     "metadata": {},
     "output_type": "execute_result"
    }
   ],
   "source": [
    "# List of numbers\n",
    "numbers = [6, 5, 3, 8, 4, 2, 5, 4, 11]\n",
    "\n",
    "# variable to store the sum\n",
    "sum = 0\n",
    "\n",
    "# iterate over the list\n",
    "for val in numbers:\n",
    "    sum = sum+val\n",
    "sum"
   ]
  },
  {
   "cell_type": "markdown",
   "metadata": {},
   "source": [
    "### Import modules\n",
    "Modules (containing Python definitions and statements) can be imported and reused.\n"
   ]
  },
  {
   "cell_type": "code",
   "execution_count": null,
   "metadata": {},
   "outputs": [],
   "source": [
    "import csv\n",
    "from collections import Counter"
   ]
  },
  {
   "cell_type": "markdown",
   "metadata": {},
   "source": [
    "# Exercise\n",
    "Work on a [bibliography](https://raw.githubusercontent.com/marilenadaquino/computational_thinking/master/1_lesson/titles.csv) on punk music, released by the British Library as a .csv file .\n",
    "\n",
    " * Print all titles sorted in alphabetical order. \n",
    " * Print all the titles of references talking (somehow) about “Sex Pistols”\n",
    " * Print all the titles of references published after 2000\n",
    " * Count references grouped by language. Print results in the form: `Language : count`\n",
    "\n",
    "# Links\n",
    "### Introduction to Python\n",
    " * [Python tutorial](https://www.programiz.com/python-programming/) The official Python Tutorial\n",
    "\n",
    "### Introduction to Jupyter\n",
    " * [Jupyter documentation](https://jupyter.readthedocs.io/en/latest/)\n",
    " * [Markdown](https://support.zendesk.com/hc/en-us/articles/203691016-Formatting-text-with-Markdown) A quick reference guide for formatting text in Markdown\n",
    "\n",
    "### References for the exercise\n",
    " * [csv](https://docs.python.org/2/library/csv.html) A python module to read and write .csv files\n",
    " * [Counter](https://docs.python.org/2/library/collections.html#collections.Counter) A class of the module `collections` for counting items of a collection\n",
    " * [csv file](https://raw.githubusercontent.com/marilenadaquino/computational_thinking/master/1_lesson/titles.csv) original data is available at [British National Bibliography > Data Services](http://www.bl.uk/bibliographic/download.html#csvpunk)\n",
    " * [Chicago Style Manual](http://www.chicagomanualofstyle.org/tools_citationguide/citation-guide-1.html) see *Bibliography entries (in alphabetical order)* for a reference"
   ]
  },
  {
   "cell_type": "code",
   "execution_count": null,
   "metadata": {},
   "outputs": [],
   "source": []
  }
 ],
 "metadata": {
  "kernelspec": {
   "display_name": "Python 3",
   "language": "python",
   "name": "python3"
  },
  "language_info": {
   "codemirror_mode": {
    "name": "ipython",
    "version": 3
   },
   "file_extension": ".py",
   "mimetype": "text/x-python",
   "name": "python",
   "nbconvert_exporter": "python",
   "pygments_lexer": "ipython3",
   "version": "3.5.0"
  }
 },
 "nbformat": 4,
 "nbformat_minor": 2
}
